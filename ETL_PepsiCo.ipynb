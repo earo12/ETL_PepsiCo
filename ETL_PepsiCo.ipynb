{
  "nbformat": 4,
  "nbformat_minor": 0,
  "metadata": {
    "colab": {
      "provenance": [],
      "authorship_tag": "ABX9TyPVBoFHAULkurzVjqON7l2c",
      "include_colab_link": true
    },
    "kernelspec": {
      "name": "python3",
      "display_name": "Python 3"
    },
    "language_info": {
      "name": "python"
    }
  },
  "cells": [
    {
      "cell_type": "markdown",
      "metadata": {
        "id": "view-in-github",
        "colab_type": "text"
      },
      "source": [
        "<a href=\"https://colab.research.google.com/github/earo12/ETL_PepsiCo/blob/dev_barnch/ETL_PepsiCo.ipynb\" target=\"_parent\"><img src=\"https://colab.research.google.com/assets/colab-badge.svg\" alt=\"Open In Colab\"/></a>"
      ]
    },
    {
      "cell_type": "code",
      "execution_count": 2,
      "metadata": {
        "colab": {
          "base_uri": "https://localhost:8080/"
        },
        "id": "tAo9JsMiexix",
        "outputId": "33f5c671-ce14-49af-a786-ac9e17b71310"
      },
      "outputs": [
        {
          "output_type": "stream",
          "name": "stdout",
          "text": [
            "Requirement already satisfied: pyspark in /usr/local/lib/python3.10/dist-packages (3.5.3)\n",
            "Requirement already satisfied: py4j==0.10.9.7 in /usr/local/lib/python3.10/dist-packages (from pyspark) (0.10.9.7)\n"
          ]
        }
      ],
      "source": [
        "# First we need to import some necessary libraries\n",
        "# Since the PDF doesn't mention what kind of source we're going to need, I'm going to create them with PySpark\n",
        "# It can be done with other data tools such as Pandas, or a SQL database and even a NoSQL database such as Mongo\n",
        "# However, I think that the standard way to manipulate data is with Spark so I'm going to use it in this project in particular\n",
        "# I'm writing this code in Colab, but actually, it can be run in practically every enviroment that incorporates Spark\n",
        "# If your environment doesn't have installed Spark, please make sure to run this line first:\n",
        "!pip install pyspark"
      ]
    },
    {
      "cell_type": "code",
      "source": [
        "# Now we can import the necessary libraries:\n",
        "\n",
        "from pyspark.sql import SparkSession # Session from Spark, it endes up when we close this notebook\n",
        "from pyspark.sql.types import StructType, StructField, StringType, IntegerType, DateType # Fields recquired for the three tables needed in the challenge"
      ],
      "metadata": {
        "id": "8eShSoxff9VE"
      },
      "execution_count": 3,
      "outputs": []
    },
    {
      "cell_type": "code",
      "source": [
        "# We can create the Spark Session as sp:\n",
        "\n",
        "sp = SparkSession.builder.master(\"local[*]\").appName(\"PepsiCoCase\").getOrCreate()\n"
      ],
      "metadata": {
        "id": "j1RlbYhtgsLv"
      },
      "execution_count": 4,
      "outputs": []
    },
    {
      "cell_type": "code",
      "source": [
        "# Now we can define the schemas for the three tables\n",
        "# The first one is related for inventory, and it has four fields: location, product, date and the information of the quantity of inventory\n",
        "# To create a Spark dataframe we can use the StructField and StructType methods that we already imported two lines before:\n",
        "\n",
        "inventory_table = StructType([StructField('location', StringType(), False),\n",
        "                             StructField('product', StringType(), False),\n",
        "                             StructField('date', DateType(), False),\n",
        "                             StructField('quantity_inventory', IntegerType(), False)])\n",
        "\n",
        "# Parameters of StructField are the field name, the kind of data, and if it can be null or not, all of them are in a list within StrucType"
      ],
      "metadata": {
        "id": "BLZmnFMRg7jd"
      },
      "execution_count": 9,
      "outputs": []
    },
    {
      "cell_type": "code",
      "source": [
        "# We can repeat the same process for the other two tables\n",
        "# The second one is a demand table with five fields location, product, date (which has the information from 14 days ago), the quantity of demand and the snapshot\n",
        "# The snapshot is the date recquired for reporting\n",
        "\n",
        "demand_table = StructType([StructField('location', StringType(), False),\n",
        "                             StructField('product', StringType(), False),\n",
        "                             StructField('date', DateType(), False),\n",
        "                             StructField('quantity_demand', IntegerType(), False),\n",
        "                             StructField('snapshot', DateType(), False)])"
      ],
      "metadata": {
        "id": "h_2P09-OiiYp"
      },
      "execution_count": 10,
      "outputs": []
    },
    {
      "cell_type": "code",
      "source": [
        "# Finally, we can follow the same thing for the replenishment table\n",
        "# In particular, this one has four fields location, product, date and the information of the replenishment:\n",
        "\n",
        "replenishment_table = StructType([StructField('location', StringType(), False),\n",
        "                             StructField('product', StringType(), False),\n",
        "                             StructField('date', DateType(), False),\n",
        "                             StructField('quantity_replenishment', IntegerType(), False)])"
      ],
      "metadata": {
        "id": "2fLPS6-pnt4t"
      },
      "execution_count": 11,
      "outputs": []
    },
    {
      "cell_type": "code",
      "source": [],
      "metadata": {
        "id": "P79y4j34oUCo"
      },
      "execution_count": null,
      "outputs": []
    }
  ]
}