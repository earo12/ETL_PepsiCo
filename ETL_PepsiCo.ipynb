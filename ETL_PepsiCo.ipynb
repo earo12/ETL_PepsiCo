{
  "nbformat": 4,
  "nbformat_minor": 0,
  "metadata": {
    "colab": {
      "provenance": [],
      "authorship_tag": "ABX9TyM8iN+HNSQGpjuUjitMPc/e",
      "include_colab_link": true
    },
    "kernelspec": {
      "name": "python3",
      "display_name": "Python 3"
    },
    "language_info": {
      "name": "python"
    }
  },
  "cells": [
    {
      "cell_type": "markdown",
      "metadata": {
        "id": "view-in-github",
        "colab_type": "text"
      },
      "source": [
        "<a href=\"https://colab.research.google.com/github/earo12/ETL_PepsiCo/blob/main/ETL_PepsiCo.ipynb\" target=\"_parent\"><img src=\"https://colab.research.google.com/assets/colab-badge.svg\" alt=\"Open In Colab\"/></a>"
      ]
    },
    {
      "cell_type": "code",
      "execution_count": 1,
      "metadata": {
        "colab": {
          "base_uri": "https://localhost:8080/"
        },
        "id": "tAo9JsMiexix",
        "outputId": "79625b98-2cd3-4040-c97f-9717bf9d2195"
      },
      "outputs": [
        {
          "output_type": "stream",
          "name": "stdout",
          "text": [
            "Requirement already satisfied: pyspark in /usr/local/lib/python3.10/dist-packages (3.5.3)\n",
            "Requirement already satisfied: py4j==0.10.9.7 in /usr/local/lib/python3.10/dist-packages (from pyspark) (0.10.9.7)\n"
          ]
        }
      ],
      "source": [
        "# First we need to import some necessary libraries\n",
        "# Since the PDF doesn't mention what kind of source we're going to need, I'm going to create them with PySpark\n",
        "# It can be done with other data tools such as Pandas, or a SQL database and even a NoSQL database such as Mongo\n",
        "# However, I think that the standard way to manipulate data is with Spark so I'm going to use it in this project in particular\n",
        "# I'm writing this code in Colab, but actually, it can be run in practically every enviroment that incorporates Spark\n",
        "# If your environment doesn't have installed Spark, please make sure to run this line first:\n",
        "!pip install pyspark"
      ]
    },
    {
      "cell_type": "code",
      "source": [
        "# Now we can import the necessary libraries:\n",
        "\n",
        "from pyspark.sql import SparkSession, Row # Session from Spark, it endes up when we close this notebook\n",
        "from pyspark.sql.types import StructType, StructField, StringType, IntegerType, DateType # Fields recquired for the three tables needed in the challenge\n",
        "\n",
        "import random # Libraries for insert the data\n",
        "from datetime import datetime, timedelta\n",
        "import shutil\n",
        "from google.colab import files\n",
        "from pyspark.sql.functions import monotonically_increasing_id\n"
      ],
      "metadata": {
        "id": "8eShSoxff9VE"
      },
      "execution_count": 23,
      "outputs": []
    },
    {
      "cell_type": "code",
      "source": [
        "# We can create the Spark Session as sp:\n",
        "\n",
        "sp = SparkSession.builder.master(\"local[*]\").appName(\"PepsiCoCase\").getOrCreate()\n"
      ],
      "metadata": {
        "id": "j1RlbYhtgsLv"
      },
      "execution_count": 24,
      "outputs": []
    },
    {
      "cell_type": "markdown",
      "source": [
        "\n",
        "\n",
        "# Extract part"
      ],
      "metadata": {
        "id": "5_noR7Z3AHce"
      }
    },
    {
      "cell_type": "code",
      "source": [
        "#First we need to insert the data, in the PDF it doesn't make any mention of how\n",
        "# First let's define the lists for every dataframe, I'm supposing three different locations and three different products\n",
        "# However it can be made with practically all the locations and products you want:\n",
        "\n",
        "locations = [\"Mexico\", \"United States\", \"Canada\"]\n",
        "products = [\"Doritos\", \"Saladitas\", \"Sabritas\", \"Gamesa\"]\n",
        "today = datetime.today()\n",
        "\n",
        "\n",
        "# Also I define the empty lists in which the data is going to be inserted:\n",
        "\n",
        "inventory_data = []\n",
        "demand_data = []\n",
        "replenishment_data = []"
      ],
      "metadata": {
        "id": "qMyHF4Kgq8oJ"
      },
      "execution_count": 25,
      "outputs": []
    },
    {
      "cell_type": "markdown",
      "source": [
        "# Transform part"
      ],
      "metadata": {
        "id": "Klap09CbcT0D"
      }
    },
    {
      "cell_type": "code",
      "source": [
        "# The first table of inventory has data available from one year to today, so to insert the data\n",
        "# We can use a triple for to achieve it:\n",
        "\n",
        "for days_in_year in range(365):\n",
        "  today_date = today - timedelta(days = days_in_year)\n",
        "  for location in locations:\n",
        "    for product in products:\n",
        "      inventory_data.append(Row(\n",
        "                                location = location,\n",
        "                                product = product,\n",
        "                                date = today_date.strftime('%Y-%m-%d'),\n",
        "                                inventory_quantity = random.randint(0, 1000))) #This line means that the quantity of inventory can be from 0 to 1000\n",
        "\n"
      ],
      "metadata": {
        "id": "P79y4j34oUCo"
      },
      "execution_count": 26,
      "outputs": []
    },
    {
      "cell_type": "code",
      "source": [
        "# Now we can make the same process for the other two tables:\n",
        "\n",
        "# For the demand table in the 60 days before (since it is recquired for the dashboard):\n",
        "\n",
        "for snap_date in range(60):  # Last 60 days for the snapshots\n",
        "    snap_dt = today - timedelta(days=snap_date)\n",
        "    for days_ahead in range(14):  # Projections for the following 14 days\n",
        "        project_dt = snap_dt + timedelta(days = days_ahead)\n",
        "        for location in locations:\n",
        "            for product in products:\n",
        "                demand_data.append(Row(\n",
        "                    location = location,\n",
        "                    product = product,\n",
        "                    date = project_dt.strftime(\"%Y-%m-%d\"),\n",
        "                    demand_quantity = random.randint(0, 1000),\n",
        "                    snapshot_date = snap_dt.strftime(\"%Y-%m-%d\") # Here I put the values for the snapshot_date\n",
        "                ))\n"
      ],
      "metadata": {
        "id": "NwCZBvFXycr1"
      },
      "execution_count": 27,
      "outputs": []
    },
    {
      "cell_type": "code",
      "source": [
        "# Finally we can make the same process with the final table which has data available from 3 years:\n",
        "\n",
        "for days_three_years in range(3 * 365):  # 3 years = 3 * 365\n",
        "    dt = today - timedelta(days = days_three_years)\n",
        "    for location in locations:\n",
        "        for product in products:\n",
        "            replenishment_data.append(Row(\n",
        "                location = location,\n",
        "                product = product,\n",
        "                date = dt.strftime(\"%Y-%m-%d\"),\n",
        "                replenishment_quantity=random.randint(0, 1000)\n",
        "            ))\n"
      ],
      "metadata": {
        "id": "F4C5emm00YIG"
      },
      "execution_count": 28,
      "outputs": []
    },
    {
      "cell_type": "code",
      "source": [
        "# We can create the dataframes in Spark:\n",
        "\n",
        "inventory_df = sp.createDataFrame(inventory_data)\n",
        "demand_df = sp.createDataFrame(demand_data)\n",
        "replenishment_df = sp.createDataFrame(replenishment_data)"
      ],
      "metadata": {
        "id": "vPk3tgOJxAZG"
      },
      "execution_count": 29,
      "outputs": []
    },
    {
      "cell_type": "code",
      "source": [
        "# Now, we're going to make a dashboard in Power BI, so basically it's going to be needed a PK in every dataframe\n",
        "# This can be done easy with the monotonically_increasing function\n",
        "inventory_df  = inventory_df.withColumn(\"id_inventory\", monotonically_increasing_id())\n",
        "demand_df = demand_df.withColumn(\"id_demand\", monotonically_increasing_id())\n",
        "replenishment_df = replenishment_df.withColumn(\"id_replenishment\", monotonically_increasing_id())\n",
        "\n",
        "# Also we can reorder the columns to put the id at the beginnig:\n",
        "inventory_df = inventory_df.select(\"id_inventory\", \"location\", \"product\", \"date\", \"inventory_quantity\")\n",
        "demand_df = demand_df.select(\"id_demand\", \"location\", \"product\", \"date\", \"demand_quantity\", \"snapshot_date\")\n",
        "replenishment_df = replenishment_df.select(\"id_replenishment\", \"location\", \"product\", \"date\", \"replenishment_quantity\")"
      ],
      "metadata": {
        "id": "NP7WAMLIgHQQ"
      },
      "execution_count": 32,
      "outputs": []
    },
    {
      "cell_type": "code",
      "source": [
        "# To validate the information is done as we expected, we can use the show method\n",
        "# IMPORTANT, please remember that Spark has a lazy evaluation\n",
        "# So please make sure to only use this method only if necessary, to keep Spark as lazy as possible\n",
        "\n",
        "#inventory_df.show()\n",
        "#demand_df.show()\n",
        "#replenishment_df.show()"
      ],
      "metadata": {
        "id": "lGFD-AdHxFuc",
        "colab": {
          "base_uri": "https://localhost:8080/"
        },
        "outputId": "1810aca5-f97f-43ed-e430-c198f05373ff"
      },
      "execution_count": 35,
      "outputs": [
        {
          "output_type": "stream",
          "name": "stdout",
          "text": [
            "+----------------+-------------+---------+----------+----------------------+\n",
            "|id_replenishment|     location|  product|      date|replenishment_quantity|\n",
            "+----------------+-------------+---------+----------+----------------------+\n",
            "|               0|       Mexico|  Doritos|2024-12-20|                   423|\n",
            "|               1|       Mexico|Saladitas|2024-12-20|                   861|\n",
            "|               2|       Mexico| Sabritas|2024-12-20|                   281|\n",
            "|               3|       Mexico|   Gamesa|2024-12-20|                     2|\n",
            "|               4|United States|  Doritos|2024-12-20|                   959|\n",
            "|               5|United States|Saladitas|2024-12-20|                   788|\n",
            "|               6|United States| Sabritas|2024-12-20|                   527|\n",
            "|               7|United States|   Gamesa|2024-12-20|                    91|\n",
            "|               8|       Canada|  Doritos|2024-12-20|                   829|\n",
            "|               9|       Canada|Saladitas|2024-12-20|                   463|\n",
            "|              10|       Canada| Sabritas|2024-12-20|                   834|\n",
            "|              11|       Canada|   Gamesa|2024-12-20|                   548|\n",
            "|              12|       Mexico|  Doritos|2024-12-19|                   301|\n",
            "|              13|       Mexico|Saladitas|2024-12-19|                   281|\n",
            "|              14|       Mexico| Sabritas|2024-12-19|                   441|\n",
            "|              15|       Mexico|   Gamesa|2024-12-19|                   392|\n",
            "|              16|United States|  Doritos|2024-12-19|                   658|\n",
            "|              17|United States|Saladitas|2024-12-19|                   884|\n",
            "|              18|United States| Sabritas|2024-12-19|                   580|\n",
            "|              19|United States|   Gamesa|2024-12-19|                   827|\n",
            "+----------------+-------------+---------+----------+----------------------+\n",
            "only showing top 20 rows\n",
            "\n"
          ]
        }
      ]
    },
    {
      "cell_type": "markdown",
      "source": [
        "# Load part"
      ],
      "metadata": {
        "id": "lcf_1BiyAKJX"
      }
    },
    {
      "cell_type": "code",
      "source": [
        "# Finally, we can save the dataframes as csv (since we don't have any destination to save the data)\n",
        "# However, it can have other destinations, such as an S3-Bucket, a Redshift Database, a Blob Storage in Azure and a big etcetera\n",
        "# It's a good point to remember that, Spark will partitionate the final output, so, if we want to have only one partition, it means, only one csv\n",
        "# We can use the coalesce method:\n",
        "\n",
        "output_path = \"/content/data/\"\n",
        "inventory_df.coalesce(1).write.csv(f\"{output_path}inventory\", header=True, mode=\"overwrite\")\n",
        "demand_df.coalesce(1).write.csv(f\"{output_path}demand\", header=True, mode=\"overwrite\")\n",
        "replenishment_df.coalesce(1).write.csv(f\"{output_path}replenishment\", header=True, mode=\"overwrite\")\n",
        "\n",
        "# Basically, the route will be /content/data/inventory, /content/data/demand, /content/data/replenishment in all the cases\n"
      ],
      "metadata": {
        "id": "yNtxZy5TxIdb"
      },
      "execution_count": 36,
      "outputs": []
    },
    {
      "cell_type": "code",
      "source": [
        "# Dataframes with Spark need to be converted to zip, since it can download too many files at the same time\n",
        "shutil.make_archive(\"/content/data_files\", 'zip', \"/content/data/\")\n",
        "\n",
        "# Finally, if we want to download the files in our computer, we can use it with the following line:\n",
        "files.download(\"/content/data_files.zip\")\n",
        "\n",
        "# This will download a .zip in your computer, which has the three files of the three tables\n",
        "# Make sure that in every file it has the respective csv of each table\n",
        "\n",
        "# Once again, this is done with Google Colab, I'm not sure if this last line will result in an error if you're trying this in a Jupyter Notebook for example"
      ],
      "metadata": {
        "colab": {
          "base_uri": "https://localhost:8080/",
          "height": 17
        },
        "id": "TTtLU57g7aDK",
        "outputId": "8e0bc748-9861-4f47-d4db-208b6c90e6e2"
      },
      "execution_count": 37,
      "outputs": [
        {
          "output_type": "display_data",
          "data": {
            "text/plain": [
              "<IPython.core.display.Javascript object>"
            ],
            "application/javascript": [
              "\n",
              "    async function download(id, filename, size) {\n",
              "      if (!google.colab.kernel.accessAllowed) {\n",
              "        return;\n",
              "      }\n",
              "      const div = document.createElement('div');\n",
              "      const label = document.createElement('label');\n",
              "      label.textContent = `Downloading \"${filename}\": `;\n",
              "      div.appendChild(label);\n",
              "      const progress = document.createElement('progress');\n",
              "      progress.max = size;\n",
              "      div.appendChild(progress);\n",
              "      document.body.appendChild(div);\n",
              "\n",
              "      const buffers = [];\n",
              "      let downloaded = 0;\n",
              "\n",
              "      const channel = await google.colab.kernel.comms.open(id);\n",
              "      // Send a message to notify the kernel that we're ready.\n",
              "      channel.send({})\n",
              "\n",
              "      for await (const message of channel.messages) {\n",
              "        // Send a message to notify the kernel that we're ready.\n",
              "        channel.send({})\n",
              "        if (message.buffers) {\n",
              "          for (const buffer of message.buffers) {\n",
              "            buffers.push(buffer);\n",
              "            downloaded += buffer.byteLength;\n",
              "            progress.value = downloaded;\n",
              "          }\n",
              "        }\n",
              "      }\n",
              "      const blob = new Blob(buffers, {type: 'application/binary'});\n",
              "      const a = document.createElement('a');\n",
              "      a.href = window.URL.createObjectURL(blob);\n",
              "      a.download = filename;\n",
              "      div.appendChild(a);\n",
              "      a.click();\n",
              "      div.remove();\n",
              "    }\n",
              "  "
            ]
          },
          "metadata": {}
        },
        {
          "output_type": "display_data",
          "data": {
            "text/plain": [
              "<IPython.core.display.Javascript object>"
            ],
            "application/javascript": [
              "download(\"download_add9219a-8747-4975-887f-1e272a7c8f79\", \"data_files.zip\", 202064)"
            ]
          },
          "metadata": {}
        }
      ]
    }
  ]
}