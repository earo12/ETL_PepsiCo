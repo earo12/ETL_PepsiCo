{
  "nbformat": 4,
  "nbformat_minor": 0,
  "metadata": {
    "colab": {
      "provenance": [],
      "authorship_tag": "ABX9TyPrbt6bnYJeAhcJQAIMhvkj",
      "include_colab_link": true
    },
    "kernelspec": {
      "name": "python3",
      "display_name": "Python 3"
    },
    "language_info": {
      "name": "python"
    }
  },
  "cells": [
    {
      "cell_type": "markdown",
      "metadata": {
        "id": "view-in-github",
        "colab_type": "text"
      },
      "source": [
        "<a href=\"https://colab.research.google.com/github/earo12/ETL_PepsiCo/blob/dev_barnch/ETL_PepsiCo.ipynb\" target=\"_parent\"><img src=\"https://colab.research.google.com/assets/colab-badge.svg\" alt=\"Open In Colab\"/></a>"
      ]
    },
    {
      "cell_type": "code",
      "execution_count": 2,
      "metadata": {
        "colab": {
          "base_uri": "https://localhost:8080/"
        },
        "id": "tAo9JsMiexix",
        "outputId": "33f5c671-ce14-49af-a786-ac9e17b71310"
      },
      "outputs": [
        {
          "output_type": "stream",
          "name": "stdout",
          "text": [
            "Requirement already satisfied: pyspark in /usr/local/lib/python3.10/dist-packages (3.5.3)\n",
            "Requirement already satisfied: py4j==0.10.9.7 in /usr/local/lib/python3.10/dist-packages (from pyspark) (0.10.9.7)\n"
          ]
        }
      ],
      "source": [
        "# First we need to import some necessary libraries\n",
        "# Since the PDF doesn't mention what kind of source we're going to need, I'm going to create them with PySpark\n",
        "# It can be done with other data tools such as Pandas, or a SQL database and even a NoSQL database such as Mongo\n",
        "# However, I think that the standard way to manipulate data is with Spark so I'm going to use it in this project in particular\n",
        "# I'm writing this code in Colab, but actually, it can be run in practically every enviroment that incorporates Spark\n",
        "# If your environment doesn't have installed Spark, please make sure to run this line first:\n",
        "!pip install pyspark"
      ]
    },
    {
      "cell_type": "code",
      "source": [
        "# Now we can import the necessary libraries:\n",
        "\n",
        "from pyspark.sql import SparkSession, Row # Session from Spark, it endes up when we close this notebook\n",
        "from pyspark.sql.types import StructType, StructField, StringType, IntegerType, DateType # Fields recquired for the three tables needed in the challenge\n",
        "\n",
        "import random # Libraries for insert the data\n",
        "from datetime import datetime, timedelta"
      ],
      "metadata": {
        "id": "8eShSoxff9VE"
      },
      "execution_count": 17,
      "outputs": []
    },
    {
      "cell_type": "code",
      "source": [
        "# We can create the Spark Session as sp:\n",
        "\n",
        "sp = SparkSession.builder.master(\"local[*]\").appName(\"PepsiCoCase\").getOrCreate()\n"
      ],
      "metadata": {
        "id": "j1RlbYhtgsLv"
      },
      "execution_count": 4,
      "outputs": []
    },
    {
      "cell_type": "code",
      "source": [
        "# Now we can define the schemas for the three tables\n",
        "# The first one is related for inventory, and it has four fields: location, product, date and the information of the quantity of inventory\n",
        "# To create a Spark dataframe we can use the StructField and StructType methods that we already imported two lines before:\n",
        "\n",
        "inventory_table = StructType([StructField('location', StringType(), False),\n",
        "                             StructField('product', StringType(), False),\n",
        "                             StructField('date', DateType(), False),\n",
        "                             StructField('quantity_inventory', IntegerType(), False)])\n",
        "\n",
        "# Parameters of StructField are the field name, the kind of data, and if it can be null or not, all of them are in a list within StrucType"
      ],
      "metadata": {
        "id": "BLZmnFMRg7jd"
      },
      "execution_count": 9,
      "outputs": []
    },
    {
      "cell_type": "code",
      "source": [
        "# We can repeat the same process for the other two tables\n",
        "# The second one is a demand table with five fields location, product, date (which has the information from 14 days ago), the quantity of demand and the snapshot\n",
        "# The snapshot is the date recquired for reporting\n",
        "\n",
        "demand_table = StructType([StructField('location', StringType(), False),\n",
        "                             StructField('product', StringType(), False),\n",
        "                             StructField('date', DateType(), False),\n",
        "                             StructField('quantity_demand', IntegerType(), False),\n",
        "                             StructField('snapshot', DateType(), False)])"
      ],
      "metadata": {
        "id": "h_2P09-OiiYp"
      },
      "execution_count": 10,
      "outputs": []
    },
    {
      "cell_type": "code",
      "source": [
        "# Finally, we can follow the same thing for the replenishment table\n",
        "# In particular, this one has four fields location, product, date and the information of the replenishment:\n",
        "\n",
        "replenishment_table = StructType([StructField('location', StringType(), False),\n",
        "                             StructField('product', StringType(), False),\n",
        "                             StructField('date', DateType(), False),\n",
        "                             StructField('quantity_replenishment', IntegerType(), False)])"
      ],
      "metadata": {
        "id": "2fLPS6-pnt4t"
      },
      "execution_count": 11,
      "outputs": []
    },
    {
      "cell_type": "code",
      "source": [
        "# Now, we need to insert the data, in the PDF it doesn't make any mention of how\n",
        "# First let's define the lists for every dataframe, I'm supposing three different locations and three different products\n",
        "# However it can be made with practically all the locations and products you want:\n",
        "\n",
        "locations = [\"Location1\", \"Location2\", \"Location3\"]\n",
        "products = [\"ProductA\", \"ProductB\", \"ProductC\"]\n",
        "today = datetime.today()\n",
        "\n",
        "\n",
        "# Also I define the empty lists in which the data is going to be inserted:\n",
        "\n",
        "inventory_data = []\n",
        "demand_data = []\n",
        "replenishment_data = []"
      ],
      "metadata": {
        "id": "qMyHF4Kgq8oJ"
      },
      "execution_count": 15,
      "outputs": []
    },
    {
      "cell_type": "code",
      "source": [
        "# The first table of inventory has data available from one year to today, so to insert the data\n",
        "# We can use a triple for to achieve it:\n",
        "\n",
        "for days_in_year in range(365):\n",
        "  today_date = today - timedelta(days = days_in_year)\n",
        "  for location in locations:\n",
        "    for product in products:\n",
        "      inventory_data.append(Row(location = location,\n",
        "                                product = product,\n",
        "                                date = today_date.strftime('%Y-%m-%d'),\n",
        "                                inventory_quantity = random.randint(0, 1000))) #This line means that the quantity of inventory can be from 0 to 1000\n"
      ],
      "metadata": {
        "id": "P79y4j34oUCo"
      },
      "execution_count": 18,
      "outputs": []
    },
    {
      "cell_type": "code",
      "source": [
        "# Now we can make the same process for the other two tables:\n",
        "\n",
        "# For the demand table in the 60 days before (since it is recquired for the dashboard):\n",
        "\n",
        "for snap_date in range(60):  # Last 60 days for the snapshots\n",
        "    snap_dt = today - timedelta(days=snap_date)\n",
        "    for days_ahead in range(14):  # Projections for the following 14 days\n",
        "        project_dt = snap_dt + timedelta(days = days_ahead)\n",
        "        for location in locations:\n",
        "            for product in products:\n",
        "                demand_data.append(Row(\n",
        "                    location = location,\n",
        "                    product = product,\n",
        "                    date = project_dt.strftime(\"%Y-%m-%d\"),\n",
        "                    demand_quantity = random.randint(0, 1000),\n",
        "                    snapshot_date = snap_dt.strftime(\"%Y-%m-%d\") # Here I put the values for the snapshot_date\n",
        "                ))"
      ],
      "metadata": {
        "id": "NwCZBvFXycr1"
      },
      "execution_count": 23,
      "outputs": []
    },
    {
      "cell_type": "code",
      "source": [
        "# Finally we can make the same process with the final table which has data available from 3 years:\n",
        "\n",
        "for days_three_years in range(3 * 365):  # 3 years = 3 * 365\n",
        "    dt = today - timedelta(days = days_three_years)\n",
        "    for location in locations:\n",
        "        for product in products:\n",
        "            replenishment_data.append(Row(\n",
        "                location = location,\n",
        "                product = product,\n",
        "                date = dt.strftime(\"%Y-%m-%d\"),\n",
        "                replenishment_quantity=random.randint(0, 1000)\n",
        "            ))\n"
      ],
      "metadata": {
        "id": "F4C5emm00YIG"
      },
      "execution_count": 29,
      "outputs": []
    },
    {
      "cell_type": "code",
      "source": [
        "# We can create the dataframes in Spark:\n",
        "\n",
        "inventory_df = sp.createDataFrame(inventory_data)\n",
        "demand_df = sp.createDataFrame(demand_data)\n",
        "replenishment_df = sp.createDataFrame(replenishment_data)"
      ],
      "metadata": {
        "id": "vPk3tgOJxAZG"
      },
      "execution_count": 30,
      "outputs": []
    },
    {
      "cell_type": "code",
      "source": [
        "# To validate the information is done as we expected, we can use the show method\n",
        "# IMPORTANT, please remember that Spark has a lazy evaluation\n",
        "# So please make sure to only use this method only if necessary, to keep Spark as lazy as possible\n",
        "\n",
        "# inventory_df.show()\n",
        "# demand_df.show()\n",
        "# replenishment_df.show()"
      ],
      "metadata": {
        "colab": {
          "base_uri": "https://localhost:8080/"
        },
        "id": "lGFD-AdHxFuc",
        "outputId": "5117e810-372e-4fe7-ebc9-c28afacc902d"
      },
      "execution_count": 33,
      "outputs": [
        {
          "output_type": "stream",
          "name": "stdout",
          "text": [
            "+---------+--------+----------+----------------------+\n",
            "| location| product|      date|replenishment_quantity|\n",
            "+---------+--------+----------+----------------------+\n",
            "|Location1|ProductA|2024-12-19|                   183|\n",
            "|Location1|ProductB|2024-12-19|                    92|\n",
            "|Location1|ProductC|2024-12-19|                   347|\n",
            "|Location2|ProductA|2024-12-19|                   571|\n",
            "|Location2|ProductB|2024-12-19|                   345|\n",
            "|Location2|ProductC|2024-12-19|                   929|\n",
            "|Location3|ProductA|2024-12-19|                   229|\n",
            "|Location3|ProductB|2024-12-19|                   867|\n",
            "|Location3|ProductC|2024-12-19|                   585|\n",
            "|Location1|ProductA|2024-12-18|                     7|\n",
            "|Location1|ProductB|2024-12-18|                   853|\n",
            "|Location1|ProductC|2024-12-18|                   935|\n",
            "|Location2|ProductA|2024-12-18|                   409|\n",
            "|Location2|ProductB|2024-12-18|                   493|\n",
            "|Location2|ProductC|2024-12-18|                   314|\n",
            "|Location3|ProductA|2024-12-18|                   130|\n",
            "|Location3|ProductB|2024-12-18|                   618|\n",
            "|Location3|ProductC|2024-12-18|                    35|\n",
            "|Location1|ProductA|2024-12-17|                   293|\n",
            "|Location1|ProductB|2024-12-17|                   704|\n",
            "+---------+--------+----------+----------------------+\n",
            "only showing top 20 rows\n",
            "\n"
          ]
        }
      ]
    },
    {
      "cell_type": "code",
      "source": [],
      "metadata": {
        "id": "yNtxZy5TxIdb"
      },
      "execution_count": null,
      "outputs": []
    }
  ]
}